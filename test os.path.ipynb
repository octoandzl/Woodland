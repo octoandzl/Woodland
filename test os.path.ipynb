{
 "cells": [
  {
   "cell_type": "code",
   "execution_count": 1,
   "metadata": {},
   "outputs": [],
   "source": [
    "import os"
   ]
  },
  {
   "cell_type": "code",
   "execution_count": 2,
   "metadata": {
    "scrolled": true
   },
   "outputs": [
    {
     "name": "stdout",
     "output_type": "stream",
     "text": [
      "/home/andzl/Workspace/WoodLand\r\n"
     ]
    }
   ],
   "source": [
    "!pwd"
   ]
  },
  {
   "cell_type": "code",
   "execution_count": 20,
   "metadata": {
    "scrolled": true
   },
   "outputs": [
    {
     "name": "stdout",
     "output_type": "stream",
     "text": [
      " ID3.ipynb\r\n",
      " python3\r\n",
      " README.md\r\n",
      "'test os.path.ipynb'\r\n",
      " tmp.py\r\n",
      " Tree.py\r\n",
      "\"Variation de l'entropie pour une variable aléatoire binaire.ipynb\"\r\n"
     ]
    }
   ],
   "source": [
    "!ls"
   ]
  },
  {
   "cell_type": "code",
   "execution_count": 1,
   "metadata": {},
   "outputs": [],
   "source": [
    "__file__ = 'tmp.py'"
   ]
  },
  {
   "cell_type": "code",
   "execution_count": 24,
   "metadata": {},
   "outputs": [],
   "source": [
    "A = os.path.join(os.path.dirname(__file__), '..')\n",
    "B = os.path.dirname(os.path.realpath(__file__))\n",
    "C = os.path.abspath(os.path.dirname(__file__))"
   ]
  },
  {
   "cell_type": "code",
   "execution_count": 3,
   "metadata": {},
   "outputs": [
    {
     "name": "stdout",
     "output_type": "stream",
     "text": [
      "tmp.py\n",
      "..\n",
      "/home/andzl/Workspace/WoodLand\n",
      "/home/andzl/Workspace/WoodLand\n"
     ]
    }
   ],
   "source": [
    "import os\n",
    "print(__file__)\n",
    "print(os.path.join(os.path.dirname(__file__), '..'))\n",
    "print(os.path.dirname(os.path.realpath(__file__)))\n",
    "print(os.path.abspath(os.path.dirname(__file__)))"
   ]
  },
  {
   "cell_type": "code",
   "execution_count": 28,
   "metadata": {},
   "outputs": [
    {
     "data": {
      "text/plain": [
       "('/home/andzl/Workspace/WoodLand', 'tmp.py')"
      ]
     },
     "execution_count": 28,
     "metadata": {},
     "output_type": "execute_result"
    }
   ],
   "source": [
    "os.path.split(os.path.realpath(__file__))"
   ]
  },
  {
   "cell_type": "code",
   "execution_count": 29,
   "metadata": {},
   "outputs": [
    {
     "data": {
      "text/plain": [
       "'/home/andzl/Workspace/WoodLand/tmp.py'"
      ]
     },
     "execution_count": 29,
     "metadata": {},
     "output_type": "execute_result"
    }
   ],
   "source": [
    "os.path.abspath(os.path.realpath(__file__))"
   ]
  },
  {
   "cell_type": "code",
   "execution_count": 15,
   "metadata": {},
   "outputs": [],
   "source": [
    "# Ignore a value when unpacking\n",
    "x, _, y = (1, 2, 3) # x = 1, y = 3 # Ignore the multiple values. It is called \"Extended Unpacking\" which is available in only Python 3.x\n",
    "#x, *_, y = (1, 2, 3, 4, 5) # x = 1, y = 5  # Ignore the index\n",
    "# for _ in range(10):     \n",
    "#     do_something()  # Ignore a value of specific location\n",
    "# for _, val in list_of_tuple:\n",
    "#     do_something()"
   ]
  },
  {
   "cell_type": "code",
   "execution_count": 11,
   "metadata": {},
   "outputs": [
    {
     "data": {
      "text/plain": [
       "''"
      ]
     },
     "execution_count": 11,
     "metadata": {},
     "output_type": "execute_result"
    }
   ],
   "source": [
    "os.path.dirname(__file__)"
   ]
  },
  {
   "cell_type": "code",
   "execution_count": 12,
   "metadata": {},
   "outputs": [],
   "source": [
    "PROJECT_DIR = os.path.dirname(os.path.dirname(os.path.abspath(__file__)))"
   ]
  },
  {
   "cell_type": "code",
   "execution_count": 15,
   "metadata": {},
   "outputs": [
    {
     "data": {
      "text/plain": [
       "'/home/andzl/Workspace/static'"
      ]
     },
     "execution_count": 15,
     "metadata": {},
     "output_type": "execute_result"
    }
   ],
   "source": [
    "os.path.join(PROJECT_DIR, 'static')"
   ]
  },
  {
   "cell_type": "code",
   "execution_count": 7,
   "metadata": {},
   "outputs": [],
   "source": [
    "PROJECT_DIR = os.path.dirname(os.path.dirname(os.path.abspath(__file__)))\n",
    "BASE_DIR = os.path.dirname(PROJECT_DIR)"
   ]
  },
  {
   "cell_type": "code",
   "execution_count": 8,
   "metadata": {},
   "outputs": [
    {
     "name": "stdout",
     "output_type": "stream",
     "text": [
      "/home/andzl/Workspace\n",
      "/home/andzl\n"
     ]
    }
   ],
   "source": [
    "print(PROJECT_DIR)\n",
    "print(BASE_DIR)"
   ]
  },
  {
   "cell_type": "code",
   "execution_count": 9,
   "metadata": {},
   "outputs": [],
   "source": [
    "STATICFILES_DIRS = [\n",
    "    os.path.join(PROJECT_DIR, 'static'),\n",
    "]"
   ]
  },
  {
   "cell_type": "code",
   "execution_count": 10,
   "metadata": {},
   "outputs": [
    {
     "data": {
      "text/plain": [
       "['/home/andzl/Workspace/static']"
      ]
     },
     "execution_count": 10,
     "metadata": {},
     "output_type": "execute_result"
    }
   ],
   "source": [
    "STATICFILES_DIRS"
   ]
  }
 ],
 "metadata": {
  "kernelspec": {
   "display_name": "Python 3",
   "language": "python",
   "name": "python3"
  },
  "language_info": {
   "codemirror_mode": {
    "name": "ipython",
    "version": 3
   },
   "file_extension": ".py",
   "mimetype": "text/x-python",
   "name": "python",
   "nbconvert_exporter": "python",
   "pygments_lexer": "ipython3",
   "version": "3.6.8"
  }
 },
 "nbformat": 4,
 "nbformat_minor": 2
}
