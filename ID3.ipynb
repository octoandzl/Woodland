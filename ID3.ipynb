{
 "cells": [
  {
   "cell_type": "code",
   "execution_count": null,
   "metadata": {},
   "outputs": [],
   "source": [
    "def get_split(dataset, split_parameter):\n",
    "    class_values = list(set(row[-1] for row in dataset)\n",
    "    _index_, _value, _score, _group = 999, 999, 1, None\n",
    "    if split_parameter == 'entropy':\n",
    "        for index in range(len(dataset[0]) -1):\n",
    "            for row in dataset:\n",
    "                groups = test_split(index, row[index], dataset)\n",
    "                ent = entropy(groups, class_values, _score)\n",
    "                if ent < _score:\n",
    "                        _index, _value, _score, _groups = index, row[index], ent, groups\n",
    "        return {'index':_index, 'value':_value, 'groups':_groups}"
   ]
  },
  {
   "cell_type": "code",
   "execution_count": 3,
   "metadata": {},
   "outputs": [],
   "source": [
    "def build_tree(train, max_depth, min_size, split_parameter):\n",
    "    root = get_split(train, split_parameter)\n",
    "    split(root, max_depth, min_size, 1)"
   ]
  },
  {
   "cell_type": "code",
   "execution_count": null,
   "metadata": {},
   "outputs": [],
   "source": [
    "# Classification and Regression Tree Algorithm\n",
    "def decision_tree(train, max_depth, min_size, split_parameter):\n",
    "    tree = build_tree(train, max_depth, min_size, split_parameter)\n",
    "    return Tree"
   ]
  },
  {
   "cell_type": "code",
   "execution_count": 2,
   "metadata": {},
   "outputs": [],
   "source": [
    "def _test(tree,test):\n",
    "    predictions = list()\n",
    "    for row in test:\n",
    "        prediction = predict(tree, row)\n",
    "        predictions.append(prediction)\n",
    "    return(predictions)"
   ]
  }
 ],
 "metadata": {
  "kernelspec": {
   "display_name": "Python 3",
   "language": "python",
   "name": "python3"
  },
  "language_info": {
   "codemirror_mode": {
    "name": "ipython",
    "version": 3
   },
   "file_extension": ".py",
   "mimetype": "text/x-python",
   "name": "python",
   "nbconvert_exporter": "python",
   "pygments_lexer": "ipython3",
   "version": "3.6.8"
  }
 },
 "nbformat": 4,
 "nbformat_minor": 2
}
